{
 "cells": [
  {
   "cell_type": "markdown",
   "metadata": {},
   "source": [
    "## 泰勒公式\n",
    "泰勒公式（英语：Taylor's Formula）是一个用函数在某点的信息描述其附近取值的公式。[牛顿插值法是泰勒公式的源头。](https://www.matongxue.com/madocs/138.html)\n",
    "\n",
    "这个公式来自于微积分的泰勒定理（Taylor's theorem），泰勒定理描述了一个可微函数，如果函数足够光滑的话，在已知函数在某一点的各阶导数值的情况之下，泰勒公式可以用这些导数值做系数构建一个多项式来近似函数在这一点的邻域中的值，这个多项式称为泰勒多项式（Taylor polynomial）。泰勒公式还给出了余项即这个多项式和实际的函数值之间的偏差。\n",
    "\n",
    "> **泰勒定理**：设$n$是一个正整数。如果定义在一个包含$a$的区间上的函数$f$在$a$点处$n+1$次可导，那么对于这个区间上的任意$x$，都有：\n",
    "$$f(x)=f(a)+\\frac{f'(a)}{1!}(x-a)+\\frac{f^{(2)}(a)}{2!}(x-a)^2+\\frac{f^{(3)}(a)}{3!}(x-a)^3+...+\\frac{f^{(n)}(a)}{!n}(x-a)^n+R_n(x)$$\n",
    "其中的多项式称为函数在$a$处的*泰勒展开式*，剩余的${R_n(x)}$是泰勒公式的*余项*，是$(x-a)^{n}$的高阶无穷小。\n",
    "\n",
    "+ 如果$a=0$的话，泰勒公式就是麦克劳伦公式\n",
    "\n",
    "### 泰勒公式与拉格朗日中值定理\n",
    "\n",
    "> **拉格朗日中值定理**：如果函数$f(x)$满足，在$[a,b]$上连续，在$(a,b)$上可导，那么至少有一个点$\\theta(a<\\theta<b)$使得等式$f'(\\theta)=\\frac{f(a)-f(b)}{a-b}$成立。\n",
    "\n",
    "拉格朗日中值定理根本就是$N=0$时的泰勒公式。将拉格朗日微分中值定理的推广，即可得到泰勒公式中余项的一种表示：\n",
    "$R_n(x)=\\frac{f^{(n+1)}(\\theta)}{(n+1)!}(x-n)^{n+1}$,其中$\\theta\\in(a,x)$\n",
    "\n",
    "### 泰勒级数与泰勒展开\n",
    "泰勒级数只是代表一种计算方式。只要一个函数无穷光滑，那么泰勒级数就存在，但是不一定[收敛](https://www.matongxue.com/madocs/240.html)，而且即使收敛，也不一定收敛于原函数。而泰勒展开却要求有收敛域。比如$ln(1+x)$在其定义域内泰勒公式都成立,泰勒级数就存在，但是泰勒展开式却只有在&(-1,1)&内成立，这就是区别。可以说在收敛区间内泰勒级数与泰勒展开是一致，但是不在收敛区间时就不一定了。实际上，这个区间的确定需要我们找到[收敛圆](https://mp.weixin.qq.com/s/7Tm8whDKv1mhKz2q6G0lyg)，关于收敛圆的证明需要我们引入[复数域](https://mp.weixin.qq.com/s?__biz=MzAxNzg3MTE3Ng==&mid=2247492863&idx=2&sn=e58ebb0e1f179e0e240872071372eea8&chksm=9bdc5cd8acabd5cedb08655924cb1cd32a7c79241278aa18e97366fea1ed97b32ed187d85684&mpshare=1&scene=1&srcid=0930KGdN2r9kvv47BBeJvFfw#rd)。\n",
    "\n",
    "+ 虚数的本质就是给数字加上了方向，这也就是为什么平面直角坐标系要有正方向。其中-1在复数域就是数字a旋转180度。\n",
    "+ i的n次方为i，-1，-i，1之间循环，实际就蕴含了自然的本质--复读机\n",
    "\n",
    "拓展材料：\n",
    "\n",
    "[1] [虚数一点也不虚](https://mp.weixin.qq.com/s/qTyjq8donAmSdOxMVPlq9Q)\n",
    "\n",
    "[2] [泰勒级数为什么不可以展开](https://mp.weixin.qq.com/s/7Tm8whDKv1mhKz2q6G0lyg)\n",
    "\n",
    "\n",
    "## 欧拉公式\n",
    "欧拉最早是通过泰勒公式观察出欧拉公式的：\n",
    "\n",
    "$e^x=1+x+\\frac{1}{2!}x^2+\\frac{1}{3!}x^3+\\frac{1}{4!}x^4+...$\n",
    "\n",
    "$sin(x)=x-\\frac{1}{3!}x^3+\\frac{1}{5!}x^5-\\frac{1}{7!}x^7+...$\n",
    "\n",
    "$cos(x)=1-\\frac{1}{2!}x^2+\\frac{1}{4!}x^4-\\frac{1}{6!}x^6+...$\n",
    "\n",
    "> **欧拉公式** 对于$\\theta \\in R$,有$e^{i\\theta}=cos(\\theta)+i sin(\\theta)$.当$\\theta=\\pi$时，就是**欧拉恒等式** $e^{i\\pi}+1=0$\n",
    "\n",
    "欧拉恒等式是数学里最令人着迷的公式之一，它将数学里最重要的几个常数联系到了一起：两个超越数(自然对数的底$e$，圆周率$\\pi$),两个单位(虚数单位$i$和自然数的单位$1$)，以及数学里常见的$0$。\n",
    "\n",
    "### 欧拉公式与圆周运动\n",
    "一方面，根据欧拉恒等式，我们可以将$e^\\theta$看作由复平面的坐标$[cos(\\theta),sin(\\theta)]$来的描述单位圆上的点。\n",
    "\n",
    "另一方面，$e$在[实数域的定义为](https://mp.weixin.qq.com/s/icP9ysNBwYXs3HXZULZV6g)$e= \\lim_{n \\to \\infty}{(1 +\\frac{1}{n})^n}$,当拓展到复数域，定义$e^i=\\lim_{n \\to \\infty}{(1+\\frac{i}{n})}^n$。根据复数乘法的描述，乘法相当于模相乘，角度相加，因此$e^i\\theta$就可以认为是[单位圆上的与x轴正方向夹角为$\\theta$的点](https://www.matongxue.com/madocs/8.html)。\n",
    "\n",
    "### 欧拉公式与三角函数\n",
    "根据欧拉公式，可以轻易推出：$sin\\theta=\\frac{e^{i\\theta}-e^{-i\\theta}}{2i}$和$cos\\theta=\\frac{e^{i\\theta}+e^{-i\\theta}}{2}$。自此，三角函数定义域被扩大到了复数域。\n",
    "\n",
    "## 傅里叶变换\n",
    "\n",
    "\n",
    "[画圆](https://www.bilibili.com/video/BV11W411H7Uz/?spm_id_from=333.788.videocard.3)\n",
    "[3bule1brown](https://www.bilibili.com/video/BV1pW411J7s8)"
   ]
  },
  {
   "cell_type": "code",
   "execution_count": null,
   "metadata": {},
   "outputs": [],
   "source": []
  }
 ],
 "metadata": {
  "kernelspec": {
   "display_name": "Python 3",
   "language": "python",
   "name": "python3"
  },
  "language_info": {
   "codemirror_mode": {
    "name": "ipython",
    "version": 3
   },
   "file_extension": ".py",
   "mimetype": "text/x-python",
   "name": "python",
   "nbconvert_exporter": "python",
   "pygments_lexer": "ipython3",
   "version": "3.6.5"
  }
 },
 "nbformat": 4,
 "nbformat_minor": 2
}
